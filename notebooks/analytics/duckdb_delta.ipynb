{
 "cells": [
  {
   "cell_type": "code",
   "execution_count": 2,
   "metadata": {},
   "outputs": [],
   "source": [
    "import duckdb\n",
    "from deltalake import DeltaTable, write_deltalake"
   ]
  },
  {
   "cell_type": "code",
   "execution_count": 3,
   "metadata": {},
   "outputs": [],
   "source": [
    "duckdb.sql(\"INSTALL 'delta'\")\n",
    "duckdb.sql(\"LOAD 'delta'\")"
   ]
  },
  {
   "cell_type": "code",
   "execution_count": 5,
   "metadata": {},
   "outputs": [
    {
     "data": {
      "text/plain": [
       "┌──────────────────────────────────┬───────────────────────┬───────────────────────────────┬─────────────────────┬────────────────────────────┬────────────────────┬──────────────────┬───────────────────┬───────────────────┬──────────────────┬───────────────────────────────┐\n",
       "│            product_id            │ product_category_name │ product_category_name_english │ product_name_lenght │ product_description_lenght │ product_photos_qty │ product_weight_g │ product_length_cm │ product_height_cm │ product_width_cm │      datetime_insert_slv      │\n",
       "│             varchar              │        varchar        │            varchar            │        int32        │           int32            │       int32        │      int32       │       int32       │       int32       │      int32       │   timestamp with time zone    │\n",
       "├──────────────────────────────────┼───────────────────────┼───────────────────────────────┼─────────────────────┼────────────────────────────┼────────────────────┼──────────────────┼───────────────────┼───────────────────┼──────────────────┼───────────────────────────────┤\n",
       "│ 1e9e8ef04dbcff4541ed26657ea517e5 │ perfumaria            │ perfumery                     │                  40 │                        287 │                  1 │              225 │                16 │                10 │               14 │ 2024-10-03 13:31:44.137286-03 │\n",
       "│ 3aa071139cb16b67ca9e5dea641aaa2f │ artes                 │ art                           │                  44 │                        276 │                  1 │             1000 │                30 │                18 │               20 │ 2024-10-03 13:31:44.137286-03 │\n",
       "│ 96bd76ec8810374ed1b65e291975717f │ esporte_lazer         │ sports_leisure                │                  46 │                        250 │                  1 │              154 │                18 │                 9 │               15 │ 2024-10-03 13:31:44.137286-03 │\n",
       "│ cef67bcfe19066a932b7673e239eb23d │ bebes                 │ baby                          │                  27 │                        261 │                  1 │              371 │                26 │                 4 │               26 │ 2024-10-03 13:31:44.137286-03 │\n",
       "│ 9dc1a7de274444849c219cff195d0b71 │ utilidades_domesticas │ housewares                    │                  37 │                        402 │                  4 │              625 │                20 │                17 │               13 │ 2024-10-03 13:31:44.137286-03 │\n",
       "│ 41d3672d4792049fa1779bb35283ed13 │ instrumentos_musicais │ musical_instruments           │                  60 │                        745 │                  1 │              200 │                38 │                 5 │               11 │ 2024-10-03 13:31:44.137286-03 │\n",
       "│ 732bd381ad09e530fe0a5f457d81becb │ cool_stuff            │ cool_stuff                    │                  56 │                       1272 │                  4 │            18350 │                70 │                24 │               44 │ 2024-10-03 13:31:44.137286-03 │\n",
       "│ 2548af3e6e77a690cf3eb6368e9ab61e │ moveis_decoracao      │ furniture_decor               │                  56 │                        184 │                  2 │              900 │                40 │                 8 │               40 │ 2024-10-03 13:31:44.137286-03 │\n",
       "│ 37cc742be07708b53a98702e77a21a02 │ eletrodomesticos      │ home_appliances               │                  57 │                        163 │                  1 │              400 │                27 │                13 │               17 │ 2024-10-03 13:31:44.137286-03 │\n",
       "│ 8c92109888e8cdf9d66dc7e463025574 │ brinquedos            │ toys                          │                  36 │                       1156 │                  1 │              600 │                17 │                10 │               12 │ 2024-10-03 13:31:44.137286-03 │\n",
       "│                ·                 │     ·                 │  ·                            │                   · │                         ·  │                  · │               ·  │                 · │                 · │                · │               ·               │\n",
       "│                ·                 │     ·                 │  ·                            │                   · │                         ·  │                  · │               ·  │                 · │                 · │                · │               ·               │\n",
       "│                ·                 │     ·                 │  ·                            │                   · │                         ·  │                  · │               ·  │                 · │                 · │                · │               ·               │\n",
       "│ 199a45cf96d7240df6c364154d370a5d │ cama_mesa_banho       │ bed_bath_table                │                  56 │                        609 │                  2 │             6050 │                50 │                18 │               40 │ 2024-10-03 13:31:44.137286-03 │\n",
       "│ 2338a290bd0581fde51b770baeddb0a6 │ artes                 │ art                           │                  49 │                        571 │                  1 │             4800 │                40 │                10 │               30 │ 2024-10-03 13:31:44.137286-03 │\n",
       "│ 17636e3c15333148e25253db631a2d7d │ fashion_esporte       │ fashion_sport                 │                  54 │                        487 │                  1 │              450 │                20 │                20 │               20 │ 2024-10-03 13:31:44.137286-03 │\n",
       "│ 436bc964ed67950b4956ce42cda4b350 │ perfumaria            │ perfumery                     │                  40 │                        975 │                  2 │               83 │                16 │                11 │               13 │ 2024-10-03 13:31:44.137286-03 │\n",
       "│ aa74ebe862c9061d4272681810675a01 │ esporte_lazer         │ sports_leisure                │                  43 │                       1236 │                  1 │             1500 │                21 │                26 │               21 │ 2024-10-03 13:31:44.137286-03 │\n",
       "│ e20be15ef3888b958c8a76a2f0edfc25 │ NULL                  │ NULL                          │                NULL │                       NULL │               NULL │              400 │                25 │                 8 │               11 │ 2024-10-03 13:31:44.137286-03 │\n",
       "│ 0884a967f6a45838a8fa6cec1c74cf2f │ cama_mesa_banho       │ bed_bath_table                │                  58 │                        373 │                  3 │              600 │                28 │                 6 │               23 │ 2024-10-03 13:31:44.137286-03 │\n",
       "│ 805967bd91579942b3caac4ebcc39a54 │ cama_mesa_banho       │ bed_bath_table                │                  37 │                        167 │                  2 │              400 │                25 │                 9 │               19 │ 2024-10-03 13:31:44.137286-03 │\n",
       "│ 5336e9f40a9319a44392237298533904 │ cama_mesa_banho       │ bed_bath_table                │                  43 │                        352 │                  1 │             1400 │                45 │                11 │               11 │ 2024-10-03 13:31:44.137286-03 │\n",
       "│ ff4f5b008c32f80c3f952b2b56a28e04 │ brinquedos            │ toys                          │                  43 │                        640 │                  2 │             1600 │                38 │                26 │               40 │ 2024-10-03 13:31:44.137286-03 │\n",
       "├──────────────────────────────────┴───────────────────────┴───────────────────────────────┴─────────────────────┴────────────────────────────┴────────────────────┴──────────────────┴───────────────────┴───────────────────┴──────────────────┴───────────────────────────────┤\n",
       "│ ? rows (>9999 rows, 20 shown)                                                                                                                                                                                                                                       11 columns │\n",
       "└────────────────────────────────────────────────────────────────────────────────────────────────────────────────────────────────────────────────────────────────────────────────────────────────────────────────────────────────────────────────────────────────────────────────┘"
      ]
     },
     "execution_count": 5,
     "metadata": {},
     "output_type": "execute_result"
    }
   ],
   "source": [
    "duckdb.sql(\"select * from delta_scan('../../data/silver/products')\")"
   ]
  }
 ],
 "metadata": {
  "kernelspec": {
   "display_name": ".venv",
   "language": "python",
   "name": "python3"
  },
  "language_info": {
   "codemirror_mode": {
    "name": "ipython",
    "version": 3
   },
   "file_extension": ".py",
   "mimetype": "text/x-python",
   "name": "python",
   "nbconvert_exporter": "python",
   "pygments_lexer": "ipython3",
   "version": "3.10.12"
  }
 },
 "nbformat": 4,
 "nbformat_minor": 2
}
