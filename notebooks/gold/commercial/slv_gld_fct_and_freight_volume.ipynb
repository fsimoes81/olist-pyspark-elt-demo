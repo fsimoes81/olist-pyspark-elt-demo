{
 "cells": [
  {
   "cell_type": "code",
   "execution_count": 19,
   "metadata": {},
   "outputs": [],
   "source": [
    "from pyspark.sql import SparkSession\n",
    "from pyspark.sql import functions as F \n",
    "from pyspark.sql.types import *\n",
    "from delta import *"
   ]
  },
  {
   "cell_type": "code",
   "execution_count": 20,
   "metadata": {},
   "outputs": [],
   "source": [
    "builder = SparkSession.builder.appName(\"olist_demo\") \\\n",
    "    .config(\"spark.sql.extensions\", \"io.delta.sql.DeltaSparkSessionExtension\") \\\n",
    "    .config(\"spark.sql.catalog.spark_catalog\", \"org.apache.spark.sql.delta.catalog.DeltaCatalog\")\\\n",
    "    .config(\"spark.sql.execution.arrow.pyspark.enabled\", \"true\") \\\n",
    "    .config(\"spark.sql.repl.eagerEval.enabled\", \"true\") \\\n",
    "    .config(\"spark.executor.memory\", \"2g\")\\\n",
    "    .config(\"spark.driver.memory\", \"4g\")\\\n",
    "    .config(\"spark.driver.memory\", \"4g\")\n",
    "\n",
    "spark = configure_spark_with_delta_pip(builder).getOrCreate()"
   ]
  },
  {
   "cell_type": "markdown",
   "metadata": {},
   "source": [
    "## Config"
   ]
  },
  {
   "cell_type": "code",
   "execution_count": 21,
   "metadata": {},
   "outputs": [],
   "source": [
    "environment = '' # dev;uat;prd"
   ]
  },
  {
   "cell_type": "code",
   "execution_count": 22,
   "metadata": {
    "tags": [
     "parameters"
    ]
   },
   "outputs": [],
   "source": [
    "base_path = '../../../data'  # This will be overwritten by Papermill"
   ]
  },
  {
   "cell_type": "code",
   "execution_count": 23,
   "metadata": {},
   "outputs": [],
   "source": [
    "path = {\n",
    "    'slv': {\n",
    "        'orders': f'{base_path}/silver/evt/evt_orders',\n",
    "        'order_items': f'{base_path}/silver/evt/evt_order_items',\n",
    "        'customer': f'{base_path}/silver/mtd/mtd_customer',\n",
    "    }, \n",
    "    'snk': f'{base_path}/gold/fct/fct_avg_sales'\n",
    "}"
   ]
  },
  {
   "cell_type": "markdown",
   "metadata": {},
   "source": [
    "## Load"
   ]
  },
  {
   "cell_type": "code",
   "execution_count": 24,
   "metadata": {},
   "outputs": [],
   "source": [
    "df = {\n",
    "    'orders': spark.read.format('delta').load(path['slv']['orders']),\n",
    "    'order_items': spark.read.format('delta').load(path['slv']['order_items']),\n",
    "    'customer': spark.read.format('delta').load(path['slv']['customer']),\n",
    "}"
   ]
  },
  {
   "cell_type": "code",
   "execution_count": 25,
   "metadata": {},
   "outputs": [],
   "source": [
    "df_snk = df['orders'].alias('ord').join(\n",
    "    df['order_items'].alias('ori'),\n",
    "    on=F.col('ord.id_order')==F.col('ori.id_order'),\n",
    "    how='left'\n",
    ").join(\n",
    "    df['customer'].alias('cst'),\n",
    "    on=F.col('ord.id_customer')==F.col('cst.id_customer'),\n",
    "    how='left'\n",
    ").select(\n",
    "    F.col('cst.sg_customer_state'),\n",
    "    F.col(\"ori.vl_item\"),\n",
    "    F.col(\"ori.vl_freight\")\n",
    ").groupBy('sg_customer_state').agg(\n",
    "    F.sum('vl_item').alias('vl_total_item'),\n",
    "    F.sum('vl_freight').alias('vl_total_freight'),\n",
    "    F.avg('vl_item').alias('vl_avg_item'),\n",
    "    F.avg('vl_freight').alias('vl_avg_freight')    \n",
    ")"
   ]
  },
  {
   "cell_type": "code",
   "execution_count": 26,
   "metadata": {},
   "outputs": [
    {
     "name": "stderr",
     "output_type": "stream",
     "text": [
      "                                                                                \r"
     ]
    },
    {
     "data": {
      "text/html": [
       "<table border='1'>\n",
       "<tr><th>sg_customer_state</th><th>vl_total_item</th><th>vl_total_freight</th><th>vl_avg_item</th><th>vl_avg_freight</th></tr>\n",
       "<tr><td>SC</td><td>520553.339999996</td><td>89660.25999999979</td><td>124.65357758620594</td><td>21.47036877394631</td></tr>\n",
       "<tr><td>RO</td><td>46140.63999999997</td><td>11417.380000000001</td><td>165.973525179856</td><td>41.06971223021583</td></tr>\n",
       "<tr><td>PI</td><td>86914.08000000013</td><td>21218.199999999997</td><td>160.35808118081206</td><td>39.14797047970479</td></tr>\n",
       "<tr><td>AM</td><td>22356.83999999999</td><td>5478.89</td><td>135.49599999999992</td><td>33.20539393939394</td></tr>\n",
       "<tr><td>RR</td><td>7829.429999999999</td><td>2235.19</td><td>150.56596153846152</td><td>42.98442307692308</td></tr>\n",
       "<tr><td>GO</td><td>294591.9499999997</td><td>53114.98000000004</td><td>126.27173167595359</td><td>22.766815259322776</td></tr>\n",
       "<tr><td>TO</td><td>49621.73999999998</td><td>11732.680000000002</td><td>157.52933333333328</td><td>37.24660317460318</td></tr>\n",
       "<tr><td>MT</td><td>156453.5300000002</td><td>29715.43</td><td>148.2971848341234</td><td>28.166284360189575</td></tr>\n",
       "<tr><td>SP</td><td>5202955.049999561</td><td>718723.0700000112</td><td>109.65362915972014</td><td>15.147275390419424</td></tr>\n",
       "<tr><td>ES</td><td>275037.3099999999</td><td>49764.60000000005</td><td>121.9137012411347</td><td>22.058776595744703</td></tr>\n",
       "<tr><td>PB</td><td>115268.08000000023</td><td>25719.73</td><td>191.47521594684423</td><td>42.72380398671096</td></tr>\n",
       "<tr><td>RS</td><td>750304.0199999887</td><td>135522.73999999967</td><td>120.33745308740798</td><td>21.73580433039289</td></tr>\n",
       "<tr><td>MS</td><td>116812.64000000017</td><td>19144.029999999995</td><td>142.62837606837627</td><td>23.374884004884</td></tr>\n",
       "<tr><td>AL</td><td>80314.81000000006</td><td>15914.59</td><td>180.88921171171185</td><td>35.843671171171174</td></tr>\n",
       "<tr><td>MG</td><td>1585308.0300000217</td><td>270853.4599999999</td><td>120.74857414883249</td><td>20.630166806306644</td></tr>\n",
       "<tr><td>PA</td><td>178947.81000000023</td><td>38699.29999999998</td><td>165.69241666666687</td><td>35.83268518518517</td></tr>\n",
       "<tr><td>BA</td><td>511349.98999999696</td><td>100156.6800000003</td><td>134.60120821268674</td><td>26.36395893656233</td></tr>\n",
       "<tr><td>SE</td><td>58920.849999999984</td><td>14111.470000000007</td><td>153.0411688311688</td><td>36.65316883116885</td></tr>\n",
       "<tr><td>PE</td><td>262788.03</td><td>59449.65999999995</td><td>145.50832225913624</td><td>32.917862679955675</td></tr>\n",
       "<tr><td>CE</td><td>227254.71000000008</td><td>48351.589999999975</td><td>153.75826116373483</td><td>32.71420162381595</td></tr>\n",
       "</table>\n",
       "only showing top 20 rows\n"
      ],
      "text/plain": [
       "+-----------------+------------------+------------------+------------------+------------------+\n",
       "|sg_customer_state|     vl_total_item|  vl_total_freight|       vl_avg_item|    vl_avg_freight|\n",
       "+-----------------+------------------+------------------+------------------+------------------+\n",
       "|               SC|  520553.339999996| 89660.25999999979|124.65357758620594| 21.47036877394631|\n",
       "|               RO| 46140.63999999997|11417.380000000001|  165.973525179856| 41.06971223021583|\n",
       "|               PI| 86914.08000000013|21218.199999999997|160.35808118081206| 39.14797047970479|\n",
       "|               AM| 22356.83999999999|           5478.89|135.49599999999992| 33.20539393939394|\n",
       "|               RR| 7829.429999999999|           2235.19|150.56596153846152| 42.98442307692308|\n",
       "|               GO| 294591.9499999997| 53114.98000000004|126.27173167595359|22.766815259322776|\n",
       "|               TO| 49621.73999999998|11732.680000000002|157.52933333333328| 37.24660317460318|\n",
       "|               MT| 156453.5300000002|          29715.43| 148.2971848341234|28.166284360189575|\n",
       "|               SP| 5202955.049999561| 718723.0700000112|109.65362915972014|15.147275390419424|\n",
       "|               ES| 275037.3099999999| 49764.60000000005| 121.9137012411347|22.058776595744703|\n",
       "|               PB|115268.08000000023|          25719.73|191.47521594684423| 42.72380398671096|\n",
       "|               RS| 750304.0199999887|135522.73999999967|120.33745308740798| 21.73580433039289|\n",
       "|               MS|116812.64000000017|19144.029999999995|142.62837606837627|   23.374884004884|\n",
       "|               AL| 80314.81000000006|          15914.59|180.88921171171185|35.843671171171174|\n",
       "|               MG|1585308.0300000217| 270853.4599999999|120.74857414883249|20.630166806306644|\n",
       "|               PA|178947.81000000023| 38699.29999999998|165.69241666666687| 35.83268518518517|\n",
       "|               BA|511349.98999999696| 100156.6800000003|134.60120821268674| 26.36395893656233|\n",
       "|               SE|58920.849999999984|14111.470000000007| 153.0411688311688| 36.65316883116885|\n",
       "|               PE|         262788.03| 59449.65999999995|145.50832225913624|32.917862679955675|\n",
       "|               CE|227254.71000000008|48351.589999999975|153.75826116373483| 32.71420162381595|\n",
       "+-----------------+------------------+------------------+------------------+------------------+\n",
       "only showing top 20 rows"
      ]
     },
     "execution_count": 26,
     "metadata": {},
     "output_type": "execute_result"
    }
   ],
   "source": [
    "df_snk"
   ]
  },
  {
   "cell_type": "code",
   "execution_count": 27,
   "metadata": {},
   "outputs": [],
   "source": [
    "df_snk = df_snk.withColumn(\"dh_insert_gld\", F.current_timestamp())"
   ]
  },
  {
   "cell_type": "markdown",
   "metadata": {},
   "source": [
    "## Sink"
   ]
  },
  {
   "cell_type": "code",
   "execution_count": 28,
   "metadata": {},
   "outputs": [
    {
     "name": "stderr",
     "output_type": "stream",
     "text": [
      "                                                                                \r"
     ]
    }
   ],
   "source": [
    "df_snk.write.format('delta')\\\n",
    ".mode(saveMode='overwrite')\\\n",
    ".save(path['snk'])"
   ]
  }
 ],
 "metadata": {
  "kernelspec": {
   "display_name": ".venv",
   "language": "python",
   "name": "python3"
  },
  "language_info": {
   "codemirror_mode": {
    "name": "ipython",
    "version": 3
   },
   "file_extension": ".py",
   "mimetype": "text/x-python",
   "name": "python",
   "nbconvert_exporter": "python",
   "pygments_lexer": "ipython3",
   "version": "3.10.12"
  }
 },
 "nbformat": 4,
 "nbformat_minor": 2
}
